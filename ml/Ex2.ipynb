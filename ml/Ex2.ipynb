{
 "cells": [
  {
   "cell_type": "markdown",
   "metadata": {},
   "source": [
    "## Coursera ML, ex2, Python and numpy"
   ]
  },
  {
   "cell_type": "code",
   "execution_count": 1,
   "metadata": {},
   "outputs": [],
   "source": [
    "import pandas as pd\n",
    "import numpy as np\n",
    "import matplotlib.pyplot as plt\n",
    "\n",
    "%matplotlib inline\n",
    "from numpy import zeros, ones\n"
   ]
  },
  {
   "cell_type": "code",
   "execution_count": 6,
   "metadata": {},
   "outputs": [],
   "source": [
    "# define sigmoid function\n",
    "\n",
    "from math import e\n",
    "def sigmoid(z):\n",
    "    g = 1 / (1 + np.power(e,(-z)))\n",
    "    return g\n"
   ]
  },
  {
   "cell_type": "code",
   "execution_count": 7,
   "metadata": {},
   "outputs": [],
   "source": [
    "data = pd.read_csv(\"machine-learning-ex2/ex2/ex2data1.txt\", header=None)"
   ]
  },
  {
   "cell_type": "code",
   "execution_count": 8,
   "metadata": {},
   "outputs": [
    {
     "data": {
      "text/plain": [
       "<matplotlib.axes._subplots.AxesSubplot at 0x7f9a83dc41d0>"
      ]
     },
     "execution_count": 8,
     "metadata": {},
     "output_type": "execute_result"
    },
    {
     "data": {
      "image/png": "[encoded data removed]",
      "text/plain": [
       "<matplotlib.figure.Figure at 0x7f9a83dea358>"
      ]
     },
     "metadata": {},
     "output_type": "display_data"
    }
   ],
   "source": [
    "X = data[[0,1]]\n",
    "y = data[[2]]\n",
    "pos = data[(data[2] > 0)]\n",
    "ax = pos.plot.scatter(0,1, color='green')\n",
    "\n",
    "neg = data[(data[2] == 0)]\n",
    "neg.plot.scatter(0,1, color='red', ax=ax)\n"
   ]
  },
  {
   "cell_type": "code",
   "execution_count": 9,
   "metadata": {},
   "outputs": [],
   "source": [
    "from numpy import zeros, size, log\n",
    "\n",
    "def cost_function_reg(theta, X, y, lambda_):\n",
    "    m = len(y)\n",
    "\n",
    "\n",
    "    J = 0\n",
    "    grad = zeros(size(theta))\n",
    "    h_x = sigmoid(X * theta)\n",
    "    print(h_x)\n",
    "\n",
    "    J = 1 /m * sum( -1 * y.transpose() * log(h_x) - (1-y.transpose()) * log(1 - h_x) )\n",
    "\n",
    "    grad = 1/m * (X.transpose() * (h_x - y))\n",
    "                \n",
    "    theta_no_first = np.r_[zeros(1),theta[1:]]\n",
    "    # np.matrix(0, theta[2:len(theta)])\n",
    "    J = J + lambda_ / (2 * m) * sum(theta_no_first.power(2))\n",
    "    grad = grad + (lambda_ / m) * theta_no_first\n",
    "\n",
    "    return J, grad\n"
   ]
  },
  {
   "cell_type": "code",
   "execution_count": null,
   "metadata": {},
   "outputs": [],
   "source": []
  }
 ],
 "metadata": {
  "kernelspec": {
   "display_name": "Python 3 case study",
   "language": "python",
   "name": "python3_cs"
  },
  "language_info": {
   "codemirror_mode": {
    "name": "ipython",
    "version": 3
   },
   "file_extension": ".py",
   "mimetype": "text/x-python",
   "name": "python",
   "nbconvert_exporter": "python",
   "pygments_lexer": "ipython3",
   "version": "3.6.3+"
  },
  "toc": {
   "nav_menu": {},
   "number_sections": false,
   "sideBar": false,
   "skip_h1_title": false,
   "toc_cell": false,
   "toc_position": {
    "height": "329px",
    "left": "1px",
    "right": "20px",
    "top": "109px",
    "width": "212px"
   },
   "toc_section_display": "block",
   "toc_window_display": false
  }
 },
 "nbformat": 4,
 "nbformat_minor": 2
}
